{
  "nbformat": 4,
  "nbformat_minor": 0,
  "metadata": {
    "colab": {
      "provenance": []
    },
    "kernelspec": {
      "name": "python3",
      "display_name": "Python 3"
    },
    "language_info": {
      "name": "python"
    }
  },
  "cells": [
    {
      "cell_type": "code",
      "execution_count": 1,
      "metadata": {
        "colab": {
          "base_uri": "https://localhost:8080/"
        },
        "id": "cp5bqDS3wEU7",
        "outputId": "3e4b8084-3133-46fd-c4bd-722c0db12e12"
      },
      "outputs": [
        {
          "output_type": "stream",
          "name": "stdout",
          "text": [
            "Mounted at /content/drive/\n"
          ]
        }
      ],
      "source": [
        "## read txt file\n",
        "from google.colab import drive\n",
        "drive.mount('/content/drive/')\n",
        "data_path = \"/content/drive/MyDrive/Colab Notebooks/\"  # this is your drive"
      ]
    },
    {
      "cell_type": "code",
      "source": [
        "import pandas as pd\n",
        "\n",
        "df = pd.read_csv(data_path + \"diabetes.csv\")\n",
        "\n",
        "# View basic information of data\n",
        "print(df.info())\n",
        "print(df.head())\n",
        "print(df[\"Outcome\"].value_counts())"
      ],
      "metadata": {
        "colab": {
          "base_uri": "https://localhost:8080/"
        },
        "id": "a9RhWOLFwKNL",
        "outputId": "00eaef4a-61ee-4f24-c7b9-436e9d71051b"
      },
      "execution_count": 2,
      "outputs": [
        {
          "output_type": "stream",
          "name": "stdout",
          "text": [
            "<class 'pandas.core.frame.DataFrame'>\n",
            "RangeIndex: 768 entries, 0 to 767\n",
            "Data columns (total 9 columns):\n",
            " #   Column                    Non-Null Count  Dtype  \n",
            "---  ------                    --------------  -----  \n",
            " 0   Pregnancies               768 non-null    int64  \n",
            " 1   Glucose                   768 non-null    int64  \n",
            " 2   BloodPressure             768 non-null    int64  \n",
            " 3   SkinThickness             768 non-null    int64  \n",
            " 4   Insulin                   768 non-null    int64  \n",
            " 5   BMI                       768 non-null    float64\n",
            " 6   DiabetesPedigreeFunction  768 non-null    float64\n",
            " 7   Age                       768 non-null    int64  \n",
            " 8   Outcome                   768 non-null    int64  \n",
            "dtypes: float64(2), int64(7)\n",
            "memory usage: 54.1 KB\n",
            "None\n",
            "   Pregnancies  Glucose  BloodPressure  SkinThickness  Insulin   BMI  \\\n",
            "0            6      148             72             35        0  33.6   \n",
            "1            1       85             66             29        0  26.6   \n",
            "2            8      183             64              0        0  23.3   \n",
            "3            1       89             66             23       94  28.1   \n",
            "4            0      137             40             35      168  43.1   \n",
            "\n",
            "   DiabetesPedigreeFunction  Age  Outcome  \n",
            "0                     0.627   50        1  \n",
            "1                     0.351   31        0  \n",
            "2                     0.672   32        1  \n",
            "3                     0.167   21        0  \n",
            "4                     2.288   33        1  \n",
            "Outcome\n",
            "0    500\n",
            "1    268\n",
            "Name: count, dtype: int64\n"
          ]
        }
      ]
    },
    {
      "cell_type": "code",
      "source": [
        "# Check for missing values\n",
        "print(df.isnull().sum())\n",
        "\n",
        "# Fill in missing numerical values with median\n",
        "df.fillna(df.median(), inplace=True)"
      ],
      "metadata": {
        "colab": {
          "base_uri": "https://localhost:8080/"
        },
        "id": "pru2OvRQwKLL",
        "outputId": "b1586cc7-d597-4f19-a79b-43d0fd7e76c3"
      },
      "execution_count": 3,
      "outputs": [
        {
          "output_type": "stream",
          "name": "stdout",
          "text": [
            "Pregnancies                 0\n",
            "Glucose                     0\n",
            "BloodPressure               0\n",
            "SkinThickness               0\n",
            "Insulin                     0\n",
            "BMI                         0\n",
            "DiabetesPedigreeFunction    0\n",
            "Age                         0\n",
            "Outcome                     0\n",
            "dtype: int64\n"
          ]
        }
      ]
    },
    {
      "cell_type": "code",
      "source": [
        "print(df.describe())\n",
        "\n",
        "# Using Z-score to detect outliers\n",
        "from scipy.stats import zscore\n",
        "z_scores = zscore(df.select_dtypes(include=[\"float64\", \"int64\"]))\n",
        "abs_z_scores = abs(z_scores)\n",
        "df = df[(abs_z_scores < 3).all(axis=1)]  # Remove outliers with Z-score greater than 3"
      ],
      "metadata": {
        "colab": {
          "base_uri": "https://localhost:8080/"
        },
        "id": "yLUsHncVwKI7",
        "outputId": "5dfd461c-6161-4528-9078-2ed1d1c2ba67"
      },
      "execution_count": 4,
      "outputs": [
        {
          "output_type": "stream",
          "name": "stdout",
          "text": [
            "       Pregnancies     Glucose  BloodPressure  SkinThickness     Insulin  \\\n",
            "count   768.000000  768.000000     768.000000     768.000000  768.000000   \n",
            "mean      3.845052  120.894531      69.105469      20.536458   79.799479   \n",
            "std       3.369578   31.972618      19.355807      15.952218  115.244002   \n",
            "min       0.000000    0.000000       0.000000       0.000000    0.000000   \n",
            "25%       1.000000   99.000000      62.000000       0.000000    0.000000   \n",
            "50%       3.000000  117.000000      72.000000      23.000000   30.500000   \n",
            "75%       6.000000  140.250000      80.000000      32.000000  127.250000   \n",
            "max      17.000000  199.000000     122.000000      99.000000  846.000000   \n",
            "\n",
            "              BMI  DiabetesPedigreeFunction         Age     Outcome  \n",
            "count  768.000000                768.000000  768.000000  768.000000  \n",
            "mean    31.992578                  0.471876   33.240885    0.348958  \n",
            "std      7.884160                  0.331329   11.760232    0.476951  \n",
            "min      0.000000                  0.078000   21.000000    0.000000  \n",
            "25%     27.300000                  0.243750   24.000000    0.000000  \n",
            "50%     32.000000                  0.372500   29.000000    0.000000  \n",
            "75%     36.600000                  0.626250   41.000000    1.000000  \n",
            "max     67.100000                  2.420000   81.000000    1.000000  \n"
          ]
        }
      ]
    },
    {
      "cell_type": "code",
      "source": [
        "print(df.describe())"
      ],
      "metadata": {
        "colab": {
          "base_uri": "https://localhost:8080/"
        },
        "id": "h-42nXZl0RZS",
        "outputId": "2adc992c-5c1a-46f2-ecd6-1ee6f1f86a7e"
      },
      "execution_count": 5,
      "outputs": [
        {
          "output_type": "stream",
          "name": "stdout",
          "text": [
            "       Pregnancies     Glucose  BloodPressure  SkinThickness     Insulin  \\\n",
            "count   688.000000  688.000000     688.000000     688.000000  688.000000   \n",
            "mean      3.845930  120.293605      72.345930      20.787791   72.507267   \n",
            "std       3.279256   30.005790      12.312859      15.405391   90.106939   \n",
            "min       0.000000   44.000000      24.000000       0.000000    0.000000   \n",
            "25%       1.000000   99.000000      64.000000       0.000000    0.000000   \n",
            "50%       3.000000  115.000000      72.000000      23.000000   43.500000   \n",
            "75%       6.000000  139.000000      80.000000      32.000000  126.000000   \n",
            "max      13.000000  199.000000     122.000000      60.000000  415.000000   \n",
            "\n",
            "              BMI  DiabetesPedigreeFunction         Age     Outcome  \n",
            "count  688.000000                688.000000  688.000000  688.000000  \n",
            "mean    32.209157                  0.454555   33.094477    0.329942  \n",
            "std      6.618891                  0.284527   11.436990    0.470534  \n",
            "min     18.200000                  0.078000   21.000000    0.000000  \n",
            "25%     27.400000                  0.245000   24.000000    0.000000  \n",
            "50%     32.000000                  0.370000   29.000000    0.000000  \n",
            "75%     36.300000                  0.605500   40.000000    1.000000  \n",
            "max     55.000000                  1.461000   68.000000    1.000000  \n"
          ]
        }
      ]
    },
    {
      "cell_type": "code",
      "source": [
        "from sklearn.preprocessing import StandardScaler\n",
        "\n",
        "\n",
        "# Separate features and target columns\n",
        "X = df.drop([\"Outcome\"], axis=1)\n",
        "y = df[\"Outcome\"]\n",
        "\n",
        "X = X[['Glucose','BMI','Age','Pregnancies','DiabetesPedigreeFunction','BloodPressure','Insulin','SkinThickness']]\n",
        "\n",
        "# Standardized numerical features\n",
        "scaler = StandardScaler()\n",
        "numerical_features = X.select_dtypes(include=[\"float64\", \"int64\"]).columns  # 仅选择数值型特征\n",
        "X[numerical_features] = scaler.fit_transform(X[numerical_features])\n",
        "\n",
        "print(X.head())"
      ],
      "metadata": {
        "colab": {
          "base_uri": "https://localhost:8080/"
        },
        "id": "Taj7lUE0wKGn",
        "outputId": "1a47239a-5a1b-44cc-adb3-6ebe10a0acd7"
      },
      "execution_count": 6,
      "outputs": [
        {
          "output_type": "stream",
          "name": "stdout",
          "text": [
            "    Glucose       BMI       Age  Pregnancies  DiabetesPedigreeFunction  \\\n",
            "0  0.924040  0.210285  1.479220     0.657355                  0.606516   \n",
            "1 -1.177082 -0.848063 -0.183265    -0.868490                 -0.364220   \n",
            "2  2.091330 -1.346999 -0.095766     1.267694                  0.764788   \n",
            "3 -1.043678 -0.621274 -1.058257    -0.868490                 -1.011378   \n",
            "5 -0.143197 -0.999256 -0.270764     0.352186                 -0.891795   \n",
            "\n",
            "   BloodPressure   Insulin  SkinThickness  \n",
            "0      -0.028115 -0.805266       0.923219  \n",
            "1      -0.515765 -0.805266       0.533462  \n",
            "2      -0.678315 -0.805266      -1.350366  \n",
            "3      -0.515765  0.238698       0.143704  \n",
            "5       0.134435 -0.805266      -1.350366  \n"
          ]
        }
      ]
    },
    {
      "cell_type": "code",
      "source": [
        "# Merge features and target columns\n",
        "df_p = pd.concat([X, y], axis=1)\n",
        "\n",
        "print(df_p.head())"
      ],
      "metadata": {
        "colab": {
          "base_uri": "https://localhost:8080/"
        },
        "id": "uhbmAjfaxTxJ",
        "outputId": "fb0b220a-75e1-4f46-a617-fcabb60c830b"
      },
      "execution_count": 7,
      "outputs": [
        {
          "output_type": "stream",
          "name": "stdout",
          "text": [
            "    Glucose       BMI       Age  Pregnancies  DiabetesPedigreeFunction  \\\n",
            "0  0.924040  0.210285  1.479220     0.657355                  0.606516   \n",
            "1 -1.177082 -0.848063 -0.183265    -0.868490                 -0.364220   \n",
            "2  2.091330 -1.346999 -0.095766     1.267694                  0.764788   \n",
            "3 -1.043678 -0.621274 -1.058257    -0.868490                 -1.011378   \n",
            "5 -0.143197 -0.999256 -0.270764     0.352186                 -0.891795   \n",
            "\n",
            "   BloodPressure   Insulin  SkinThickness  Outcome  \n",
            "0      -0.028115 -0.805266       0.923219        1  \n",
            "1      -0.515765 -0.805266       0.533462        0  \n",
            "2      -0.678315 -0.805266      -1.350366        1  \n",
            "3      -0.515765  0.238698       0.143704        0  \n",
            "5       0.134435 -0.805266      -1.350366        0  \n"
          ]
        }
      ]
    },
    {
      "cell_type": "code",
      "source": [
        "# Calculate the correlation between features and target columns\n",
        "correlation = df_p.corr()[\"Outcome\"].abs().sort_values(ascending=False)\n",
        "print(correlation)\n",
        "\n",
        "# Select features with high correlation\n",
        "selected_features = correlation[correlation > 0.1].index\n",
        "df_p = df_p[selected_features]"
      ],
      "metadata": {
        "colab": {
          "base_uri": "https://localhost:8080/"
        },
        "id": "6mGequPewKCD",
        "outputId": "69d6fc1c-7ec5-4866-8111-8be4a2eec4b2"
      },
      "execution_count": 8,
      "outputs": [
        {
          "output_type": "stream",
          "name": "stdout",
          "text": [
            "Outcome                     1.000000\n",
            "Glucose                     0.478614\n",
            "BMI                         0.298056\n",
            "Age                         0.246290\n",
            "Pregnancies                 0.226382\n",
            "DiabetesPedigreeFunction    0.213872\n",
            "BloodPressure               0.182521\n",
            "Insulin                     0.110062\n",
            "SkinThickness               0.056662\n",
            "Name: Outcome, dtype: float64\n"
          ]
        }
      ]
    },
    {
      "cell_type": "code",
      "source": [
        "correlation = df_p.corr()[\"Outcome\"].abs().sort_values(ascending=False)\n",
        "print(correlation)\n",
        "\n",
        "df_p.head()"
      ],
      "metadata": {
        "id": "FA6YlOaYx7-r",
        "colab": {
          "base_uri": "https://localhost:8080/",
          "height": 363
        },
        "outputId": "cec73813-72f3-4ca0-d64f-588f2b49ecc7"
      },
      "execution_count": 9,
      "outputs": [
        {
          "output_type": "stream",
          "name": "stdout",
          "text": [
            "Outcome                     1.000000\n",
            "Glucose                     0.478614\n",
            "BMI                         0.298056\n",
            "Age                         0.246290\n",
            "Pregnancies                 0.226382\n",
            "DiabetesPedigreeFunction    0.213872\n",
            "BloodPressure               0.182521\n",
            "Insulin                     0.110062\n",
            "Name: Outcome, dtype: float64\n"
          ]
        },
        {
          "output_type": "execute_result",
          "data": {
            "text/plain": [
              "   Outcome   Glucose       BMI       Age  Pregnancies  \\\n",
              "0        1  0.924040  0.210285  1.479220     0.657355   \n",
              "1        0 -1.177082 -0.848063 -0.183265    -0.868490   \n",
              "2        1  2.091330 -1.346999 -0.095766     1.267694   \n",
              "3        0 -1.043678 -0.621274 -1.058257    -0.868490   \n",
              "5        0 -0.143197 -0.999256 -0.270764     0.352186   \n",
              "\n",
              "   DiabetesPedigreeFunction  BloodPressure   Insulin  \n",
              "0                  0.606516      -0.028115 -0.805266  \n",
              "1                 -0.364220      -0.515765 -0.805266  \n",
              "2                  0.764788      -0.678315 -0.805266  \n",
              "3                 -1.011378      -0.515765  0.238698  \n",
              "5                 -0.891795       0.134435 -0.805266  "
            ],
            "text/html": [
              "\n",
              "  <div id=\"df-a7e2571e-2310-4d14-84b7-08a2d4ae2dec\" class=\"colab-df-container\">\n",
              "    <div>\n",
              "<style scoped>\n",
              "    .dataframe tbody tr th:only-of-type {\n",
              "        vertical-align: middle;\n",
              "    }\n",
              "\n",
              "    .dataframe tbody tr th {\n",
              "        vertical-align: top;\n",
              "    }\n",
              "\n",
              "    .dataframe thead th {\n",
              "        text-align: right;\n",
              "    }\n",
              "</style>\n",
              "<table border=\"1\" class=\"dataframe\">\n",
              "  <thead>\n",
              "    <tr style=\"text-align: right;\">\n",
              "      <th></th>\n",
              "      <th>Outcome</th>\n",
              "      <th>Glucose</th>\n",
              "      <th>BMI</th>\n",
              "      <th>Age</th>\n",
              "      <th>Pregnancies</th>\n",
              "      <th>DiabetesPedigreeFunction</th>\n",
              "      <th>BloodPressure</th>\n",
              "      <th>Insulin</th>\n",
              "    </tr>\n",
              "  </thead>\n",
              "  <tbody>\n",
              "    <tr>\n",
              "      <th>0</th>\n",
              "      <td>1</td>\n",
              "      <td>0.924040</td>\n",
              "      <td>0.210285</td>\n",
              "      <td>1.479220</td>\n",
              "      <td>0.657355</td>\n",
              "      <td>0.606516</td>\n",
              "      <td>-0.028115</td>\n",
              "      <td>-0.805266</td>\n",
              "    </tr>\n",
              "    <tr>\n",
              "      <th>1</th>\n",
              "      <td>0</td>\n",
              "      <td>-1.177082</td>\n",
              "      <td>-0.848063</td>\n",
              "      <td>-0.183265</td>\n",
              "      <td>-0.868490</td>\n",
              "      <td>-0.364220</td>\n",
              "      <td>-0.515765</td>\n",
              "      <td>-0.805266</td>\n",
              "    </tr>\n",
              "    <tr>\n",
              "      <th>2</th>\n",
              "      <td>1</td>\n",
              "      <td>2.091330</td>\n",
              "      <td>-1.346999</td>\n",
              "      <td>-0.095766</td>\n",
              "      <td>1.267694</td>\n",
              "      <td>0.764788</td>\n",
              "      <td>-0.678315</td>\n",
              "      <td>-0.805266</td>\n",
              "    </tr>\n",
              "    <tr>\n",
              "      <th>3</th>\n",
              "      <td>0</td>\n",
              "      <td>-1.043678</td>\n",
              "      <td>-0.621274</td>\n",
              "      <td>-1.058257</td>\n",
              "      <td>-0.868490</td>\n",
              "      <td>-1.011378</td>\n",
              "      <td>-0.515765</td>\n",
              "      <td>0.238698</td>\n",
              "    </tr>\n",
              "    <tr>\n",
              "      <th>5</th>\n",
              "      <td>0</td>\n",
              "      <td>-0.143197</td>\n",
              "      <td>-0.999256</td>\n",
              "      <td>-0.270764</td>\n",
              "      <td>0.352186</td>\n",
              "      <td>-0.891795</td>\n",
              "      <td>0.134435</td>\n",
              "      <td>-0.805266</td>\n",
              "    </tr>\n",
              "  </tbody>\n",
              "</table>\n",
              "</div>\n",
              "    <div class=\"colab-df-buttons\">\n",
              "\n",
              "  <div class=\"colab-df-container\">\n",
              "    <button class=\"colab-df-convert\" onclick=\"convertToInteractive('df-a7e2571e-2310-4d14-84b7-08a2d4ae2dec')\"\n",
              "            title=\"Convert this dataframe to an interactive table.\"\n",
              "            style=\"display:none;\">\n",
              "\n",
              "  <svg xmlns=\"http://www.w3.org/2000/svg\" height=\"24px\" viewBox=\"0 -960 960 960\">\n",
              "    <path d=\"M120-120v-720h720v720H120Zm60-500h600v-160H180v160Zm220 220h160v-160H400v160Zm0 220h160v-160H400v160ZM180-400h160v-160H180v160Zm440 0h160v-160H620v160ZM180-180h160v-160H180v160Zm440 0h160v-160H620v160Z\"/>\n",
              "  </svg>\n",
              "    </button>\n",
              "\n",
              "  <style>\n",
              "    .colab-df-container {\n",
              "      display:flex;\n",
              "      gap: 12px;\n",
              "    }\n",
              "\n",
              "    .colab-df-convert {\n",
              "      background-color: #E8F0FE;\n",
              "      border: none;\n",
              "      border-radius: 50%;\n",
              "      cursor: pointer;\n",
              "      display: none;\n",
              "      fill: #1967D2;\n",
              "      height: 32px;\n",
              "      padding: 0 0 0 0;\n",
              "      width: 32px;\n",
              "    }\n",
              "\n",
              "    .colab-df-convert:hover {\n",
              "      background-color: #E2EBFA;\n",
              "      box-shadow: 0px 1px 2px rgba(60, 64, 67, 0.3), 0px 1px 3px 1px rgba(60, 64, 67, 0.15);\n",
              "      fill: #174EA6;\n",
              "    }\n",
              "\n",
              "    .colab-df-buttons div {\n",
              "      margin-bottom: 4px;\n",
              "    }\n",
              "\n",
              "    [theme=dark] .colab-df-convert {\n",
              "      background-color: #3B4455;\n",
              "      fill: #D2E3FC;\n",
              "    }\n",
              "\n",
              "    [theme=dark] .colab-df-convert:hover {\n",
              "      background-color: #434B5C;\n",
              "      box-shadow: 0px 1px 3px 1px rgba(0, 0, 0, 0.15);\n",
              "      filter: drop-shadow(0px 1px 2px rgba(0, 0, 0, 0.3));\n",
              "      fill: #FFFFFF;\n",
              "    }\n",
              "  </style>\n",
              "\n",
              "    <script>\n",
              "      const buttonEl =\n",
              "        document.querySelector('#df-a7e2571e-2310-4d14-84b7-08a2d4ae2dec button.colab-df-convert');\n",
              "      buttonEl.style.display =\n",
              "        google.colab.kernel.accessAllowed ? 'block' : 'none';\n",
              "\n",
              "      async function convertToInteractive(key) {\n",
              "        const element = document.querySelector('#df-a7e2571e-2310-4d14-84b7-08a2d4ae2dec');\n",
              "        const dataTable =\n",
              "          await google.colab.kernel.invokeFunction('convertToInteractive',\n",
              "                                                    [key], {});\n",
              "        if (!dataTable) return;\n",
              "\n",
              "        const docLinkHtml = 'Like what you see? Visit the ' +\n",
              "          '<a target=\"_blank\" href=https://colab.research.google.com/notebooks/data_table.ipynb>data table notebook</a>'\n",
              "          + ' to learn more about interactive tables.';\n",
              "        element.innerHTML = '';\n",
              "        dataTable['output_type'] = 'display_data';\n",
              "        await google.colab.output.renderOutput(dataTable, element);\n",
              "        const docLink = document.createElement('div');\n",
              "        docLink.innerHTML = docLinkHtml;\n",
              "        element.appendChild(docLink);\n",
              "      }\n",
              "    </script>\n",
              "  </div>\n",
              "\n",
              "\n",
              "<div id=\"df-f4982f8b-64ca-4fe2-954b-8c6f24888e86\">\n",
              "  <button class=\"colab-df-quickchart\" onclick=\"quickchart('df-f4982f8b-64ca-4fe2-954b-8c6f24888e86')\"\n",
              "            title=\"Suggest charts\"\n",
              "            style=\"display:none;\">\n",
              "\n",
              "<svg xmlns=\"http://www.w3.org/2000/svg\" height=\"24px\"viewBox=\"0 0 24 24\"\n",
              "     width=\"24px\">\n",
              "    <g>\n",
              "        <path d=\"M19 3H5c-1.1 0-2 .9-2 2v14c0 1.1.9 2 2 2h14c1.1 0 2-.9 2-2V5c0-1.1-.9-2-2-2zM9 17H7v-7h2v7zm4 0h-2V7h2v10zm4 0h-2v-4h2v4z\"/>\n",
              "    </g>\n",
              "</svg>\n",
              "  </button>\n",
              "\n",
              "<style>\n",
              "  .colab-df-quickchart {\n",
              "      --bg-color: #E8F0FE;\n",
              "      --fill-color: #1967D2;\n",
              "      --hover-bg-color: #E2EBFA;\n",
              "      --hover-fill-color: #174EA6;\n",
              "      --disabled-fill-color: #AAA;\n",
              "      --disabled-bg-color: #DDD;\n",
              "  }\n",
              "\n",
              "  [theme=dark] .colab-df-quickchart {\n",
              "      --bg-color: #3B4455;\n",
              "      --fill-color: #D2E3FC;\n",
              "      --hover-bg-color: #434B5C;\n",
              "      --hover-fill-color: #FFFFFF;\n",
              "      --disabled-bg-color: #3B4455;\n",
              "      --disabled-fill-color: #666;\n",
              "  }\n",
              "\n",
              "  .colab-df-quickchart {\n",
              "    background-color: var(--bg-color);\n",
              "    border: none;\n",
              "    border-radius: 50%;\n",
              "    cursor: pointer;\n",
              "    display: none;\n",
              "    fill: var(--fill-color);\n",
              "    height: 32px;\n",
              "    padding: 0;\n",
              "    width: 32px;\n",
              "  }\n",
              "\n",
              "  .colab-df-quickchart:hover {\n",
              "    background-color: var(--hover-bg-color);\n",
              "    box-shadow: 0 1px 2px rgba(60, 64, 67, 0.3), 0 1px 3px 1px rgba(60, 64, 67, 0.15);\n",
              "    fill: var(--button-hover-fill-color);\n",
              "  }\n",
              "\n",
              "  .colab-df-quickchart-complete:disabled,\n",
              "  .colab-df-quickchart-complete:disabled:hover {\n",
              "    background-color: var(--disabled-bg-color);\n",
              "    fill: var(--disabled-fill-color);\n",
              "    box-shadow: none;\n",
              "  }\n",
              "\n",
              "  .colab-df-spinner {\n",
              "    border: 2px solid var(--fill-color);\n",
              "    border-color: transparent;\n",
              "    border-bottom-color: var(--fill-color);\n",
              "    animation:\n",
              "      spin 1s steps(1) infinite;\n",
              "  }\n",
              "\n",
              "  @keyframes spin {\n",
              "    0% {\n",
              "      border-color: transparent;\n",
              "      border-bottom-color: var(--fill-color);\n",
              "      border-left-color: var(--fill-color);\n",
              "    }\n",
              "    20% {\n",
              "      border-color: transparent;\n",
              "      border-left-color: var(--fill-color);\n",
              "      border-top-color: var(--fill-color);\n",
              "    }\n",
              "    30% {\n",
              "      border-color: transparent;\n",
              "      border-left-color: var(--fill-color);\n",
              "      border-top-color: var(--fill-color);\n",
              "      border-right-color: var(--fill-color);\n",
              "    }\n",
              "    40% {\n",
              "      border-color: transparent;\n",
              "      border-right-color: var(--fill-color);\n",
              "      border-top-color: var(--fill-color);\n",
              "    }\n",
              "    60% {\n",
              "      border-color: transparent;\n",
              "      border-right-color: var(--fill-color);\n",
              "    }\n",
              "    80% {\n",
              "      border-color: transparent;\n",
              "      border-right-color: var(--fill-color);\n",
              "      border-bottom-color: var(--fill-color);\n",
              "    }\n",
              "    90% {\n",
              "      border-color: transparent;\n",
              "      border-bottom-color: var(--fill-color);\n",
              "    }\n",
              "  }\n",
              "</style>\n",
              "\n",
              "  <script>\n",
              "    async function quickchart(key) {\n",
              "      const quickchartButtonEl =\n",
              "        document.querySelector('#' + key + ' button');\n",
              "      quickchartButtonEl.disabled = true;  // To prevent multiple clicks.\n",
              "      quickchartButtonEl.classList.add('colab-df-spinner');\n",
              "      try {\n",
              "        const charts = await google.colab.kernel.invokeFunction(\n",
              "            'suggestCharts', [key], {});\n",
              "      } catch (error) {\n",
              "        console.error('Error during call to suggestCharts:', error);\n",
              "      }\n",
              "      quickchartButtonEl.classList.remove('colab-df-spinner');\n",
              "      quickchartButtonEl.classList.add('colab-df-quickchart-complete');\n",
              "    }\n",
              "    (() => {\n",
              "      let quickchartButtonEl =\n",
              "        document.querySelector('#df-f4982f8b-64ca-4fe2-954b-8c6f24888e86 button');\n",
              "      quickchartButtonEl.style.display =\n",
              "        google.colab.kernel.accessAllowed ? 'block' : 'none';\n",
              "    })();\n",
              "  </script>\n",
              "</div>\n",
              "    </div>\n",
              "  </div>\n"
            ],
            "application/vnd.google.colaboratory.intrinsic+json": {
              "type": "dataframe",
              "variable_name": "df_p",
              "summary": "{\n  \"name\": \"df_p\",\n  \"rows\": 688,\n  \"fields\": [\n    {\n      \"column\": \"Outcome\",\n      \"properties\": {\n        \"dtype\": \"number\",\n        \"std\": 0,\n        \"min\": 0,\n        \"max\": 1,\n        \"num_unique_values\": 2,\n        \"samples\": [\n          0,\n          1\n        ],\n        \"semantic_type\": \"\",\n        \"description\": \"\"\n      }\n    },\n    {\n      \"column\": \"Glucose\",\n      \"properties\": {\n        \"dtype\": \"number\",\n        \"std\": 1.000727537382525,\n        \"min\": -2.5444792751729715,\n        \"max\": 2.6249486140334612,\n        \"num_unique_values\": 133,\n        \"samples\": [\n          0.29036827697249173,\n          1.324253854813778\n        ],\n        \"semantic_type\": \"\",\n        \"description\": \"\"\n      }\n    },\n    {\n      \"column\": \"BMI\",\n      \"properties\": {\n        \"dtype\": \"number\",\n        \"std\": 1.0007275373825233,\n        \"min\": -2.1180814269996016,\n        \"max\": 3.4458077237164684,\n        \"num_unique_values\": 237,\n        \"samples\": [\n          -0.8178247232996503,\n          0.4824319804003005\n        ],\n        \"semantic_type\": \"\",\n        \"description\": \"\"\n      }\n    },\n    {\n      \"column\": \"Age\",\n      \"properties\": {\n        \"dtype\": \"number\",\n        \"std\": 1.0007275373825244,\n        \"min\": -1.0582570906288395,\n        \"max\": 3.0542055079259205,\n        \"num_unique_values\": 48,\n        \"samples\": [\n          0.779226198087117,\n          1.3917206276591025\n        ],\n        \"semantic_type\": \"\",\n        \"description\": \"\"\n      }\n    },\n    {\n      \"column\": \"Pregnancies\",\n      \"properties\": {\n        \"dtype\": \"number\",\n        \"std\": 1.0007275373825235,\n        \"min\": -1.1736589580424541,\n        \"max\": 2.793538971183438,\n        \"num_unique_values\": 14,\n        \"samples\": [\n          1.572862685267779,\n          2.793538971183438\n        ],\n        \"semantic_type\": \"\",\n        \"description\": \"\"\n      }\n    },\n    {\n      \"column\": \"DiabetesPedigreeFunction\",\n      \"properties\": {\n        \"dtype\": \"number\",\n        \"std\": 1.0007275373825242,\n        \"min\": -1.3244054341427567,\n        \"max\": 3.539828433956868,\n        \"num_unique_values\": 473,\n        \"samples\": [\n          -0.9340005466813986,\n          -0.6807649440037609\n        ],\n        \"semantic_type\": \"\",\n        \"description\": \"\"\n      }\n    },\n    {\n      \"column\": \"BloodPressure\",\n      \"properties\": {\n        \"dtype\": \"number\",\n        \"std\": 1.0007275373825248,\n        \"min\": -3.9293150733764493,\n        \"max\": 4.03563410308118,\n        \"num_unique_values\": 45,\n        \"samples\": [\n          2.247584287958039,\n          -2.3038152414463204\n        ],\n        \"semantic_type\": \"\",\n        \"description\": \"\"\n      }\n    },\n    {\n      \"column\": \"Insulin\",\n      \"properties\": {\n        \"dtype\": \"number\",\n        \"std\": 1.000727537382522,\n        \"min\": -0.8052656076968335,\n        \"max\": 3.803723794119342,\n        \"num_unique_values\": 166,\n        \"samples\": [\n          0.13874426978358795,\n          2.815289922404548\n        ],\n        \"semantic_type\": \"\",\n        \"description\": \"\"\n      }\n    }\n  ]\n}"
            }
          },
          "metadata": {},
          "execution_count": 9
        }
      ]
    },
    {
      "cell_type": "code",
      "source": [
        "from google.colab import files\n",
        "\n",
        "df_p.to_csv('data1_p.csv', index=False)\n",
        "files.download('data1_p.csv')"
      ],
      "metadata": {
        "colab": {
          "base_uri": "https://localhost:8080/",
          "height": 17
        },
        "id": "YAUGSpq3xotp",
        "outputId": "3acd1fad-f689-4ee5-a371-755dba2860b2"
      },
      "execution_count": 10,
      "outputs": [
        {
          "output_type": "display_data",
          "data": {
            "text/plain": [
              "<IPython.core.display.Javascript object>"
            ],
            "application/javascript": [
              "\n",
              "    async function download(id, filename, size) {\n",
              "      if (!google.colab.kernel.accessAllowed) {\n",
              "        return;\n",
              "      }\n",
              "      const div = document.createElement('div');\n",
              "      const label = document.createElement('label');\n",
              "      label.textContent = `Downloading \"${filename}\": `;\n",
              "      div.appendChild(label);\n",
              "      const progress = document.createElement('progress');\n",
              "      progress.max = size;\n",
              "      div.appendChild(progress);\n",
              "      document.body.appendChild(div);\n",
              "\n",
              "      const buffers = [];\n",
              "      let downloaded = 0;\n",
              "\n",
              "      const channel = await google.colab.kernel.comms.open(id);\n",
              "      // Send a message to notify the kernel that we're ready.\n",
              "      channel.send({})\n",
              "\n",
              "      for await (const message of channel.messages) {\n",
              "        // Send a message to notify the kernel that we're ready.\n",
              "        channel.send({})\n",
              "        if (message.buffers) {\n",
              "          for (const buffer of message.buffers) {\n",
              "            buffers.push(buffer);\n",
              "            downloaded += buffer.byteLength;\n",
              "            progress.value = downloaded;\n",
              "          }\n",
              "        }\n",
              "      }\n",
              "      const blob = new Blob(buffers, {type: 'application/binary'});\n",
              "      const a = document.createElement('a');\n",
              "      a.href = window.URL.createObjectURL(blob);\n",
              "      a.download = filename;\n",
              "      div.appendChild(a);\n",
              "      a.click();\n",
              "      div.remove();\n",
              "    }\n",
              "  "
            ]
          },
          "metadata": {}
        },
        {
          "output_type": "display_data",
          "data": {
            "text/plain": [
              "<IPython.core.display.Javascript object>"
            ],
            "application/javascript": [
              "download(\"download_d016cf61-3c43-4e99-a50a-f6e61d23f3dc\", \"data1_p2.csv\", 96085)"
            ]
          },
          "metadata": {}
        }
      ]
    },
    {
      "cell_type": "code",
      "source": [
        "from imblearn.over_sampling import SMOTE\n",
        "\n",
        "X = df_p.drop(\"Outcome\", axis=1)\n",
        "y = df_p[\"Outcome\"]\n",
        "\n",
        "# Use SMOTE to oversample minority classes\n",
        "smote = SMOTE(random_state=42)\n",
        "X_res, y_res = smote.fit_resample(X, y)\n",
        "\n",
        "print(y_res.value_counts())"
      ],
      "metadata": {
        "colab": {
          "base_uri": "https://localhost:8080/"
        },
        "id": "rVnwR-Y8wJ_l",
        "outputId": "e68ffb0e-a609-4f44-ae9a-1a98b06fa8d8"
      },
      "execution_count": 11,
      "outputs": [
        {
          "output_type": "stream",
          "name": "stdout",
          "text": [
            "Outcome\n",
            "1    461\n",
            "0    461\n",
            "Name: count, dtype: int64\n"
          ]
        }
      ]
    },
    {
      "cell_type": "code",
      "source": [
        "from sklearn.model_selection import train_test_split\n",
        "\n",
        "# partitioned data set\n",
        "X_train, X_test, y_train, y_test = train_test_split(X_res, y_res, test_size=0.2, random_state=42, stratify=y_res)\n",
        "\n",
        "print(y_train.value_counts())\n",
        "print(y_test.value_counts())"
      ],
      "metadata": {
        "colab": {
          "base_uri": "https://localhost:8080/"
        },
        "id": "hdeKuVVdwJ9m",
        "outputId": "ca3abd06-7a98-4082-ea07-d6a491e288c3"
      },
      "execution_count": 12,
      "outputs": [
        {
          "output_type": "stream",
          "name": "stdout",
          "text": [
            "Outcome\n",
            "1    369\n",
            "0    368\n",
            "Name: count, dtype: int64\n",
            "Outcome\n",
            "0    93\n",
            "1    92\n",
            "Name: count, dtype: int64\n"
          ]
        }
      ]
    },
    {
      "cell_type": "code",
      "source": [],
      "metadata": {
        "id": "zAtc5_j3wJ7R"
      },
      "execution_count": null,
      "outputs": []
    },
    {
      "cell_type": "code",
      "source": [],
      "metadata": {
        "id": "57RIGKbIwJ5H"
      },
      "execution_count": null,
      "outputs": []
    },
    {
      "cell_type": "code",
      "source": [],
      "metadata": {
        "id": "89hlwhGZwJ26"
      },
      "execution_count": null,
      "outputs": []
    }
  ]
}